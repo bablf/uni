{
 "cells": [
  {
   "cell_type": "code",
   "execution_count": 39,
   "metadata": {},
   "outputs": [],
   "source": [
    "import argparse\n",
    "import pickle\n",
    "from transformers import GPT2Config, GPT2LMHeadModel, GPT2Model, GPT2Tokenizer\n",
    "from torch.utils.data import IterableDataset, Dataset, DataLoader, random_split\n",
    "import torch\n",
    "import numpy as np"
   ]
  },
  {
   "cell_type": "code",
   "execution_count": 2,
   "metadata": {},
   "outputs": [],
   "source": [
    "class UciGPT:\n",
    "    \"\"\"\n",
    "    This is a, on UCI notation finetuned, GPT-2 Model with the help of gpt-2-simple.\n",
    "    See file uic_gpt2.py\n",
    "    \"\"\"\n",
    "    config = GPT2Config.from_pretrained(\"gpt2-medium\")\n",
    "    config.output_hidden_states = True\n",
    "    model = GPT2Model.from_pretrained(\"uci_checkpoint/run1/model-18500.index\", from_tf=True, config=config)\n",
    "    tokenizer = GPT2Tokenizer(\"uci_checkpoint/run1/encoder.json\", \"uci_checkpoint/run1/vocab.bpe\")\n",
    "    tokenizer.pad_token = tokenizer.eos_token\n",
    "    tokenizer.padding_side = \"left\"\n",
    "    name = \"UciGPT\"\n",
    "    notation = \"uci\"\n"
   ]
  },
  {
   "cell_type": "code",
   "execution_count": 36,
   "metadata": {},
   "outputs": [],
   "source": [
    "\n",
    "# create or open probing_dataset\n",
    "\n",
    "def train_probing_classifier(chess_model, dataset):\n",
    "    for x, boards in DataLoader(dataset, batch_size=4):\n",
    "        print(#pt_outputs = chess_model.model(**games)  # todo check  shape (batch_size, sequence_length, hidden_size)\n",
    "        #probing_classifier(pt_outputs.last_hidden_state)\n",
    "        #exit()\n",
    "\n"
   ]
  },
  {
   "cell_type": "code",
   "execution_count": 37,
   "metadata": {},
   "outputs": [],
   "source": [
    "\n",
    "class ChessGamesDataset(IterableDataset):  # todo maybe iterabledataset if memory problems\n",
    "    def __init__(self, filename, notation, tokenizer, max_len):\n",
    "        self.filename = filename\n",
    "        self.notation = notation\n",
    "        self.tokenizer = tokenizer\n",
    "        self.tokenizer.model_max_length = max_len\n",
    "\n",
    "    def game_mapper(self, file_iter):\n",
    "        game = file_iter.split(\";\")\n",
    "        board = np.fromstring(game[-1][1:-1], dtype=int, sep=' ')\n",
    "        # give uci or pgn to the tokenizer\n",
    "        return self.tokenizer(game[1] if self.notation == \"uci\" else game[0], return_tensors='pt', padding='max_length'), board\n",
    "\n",
    "    def __iter__(self):\n",
    "        # Create an iterator\n",
    "        file_itr = open(self.filename, encoding='cp1252')\n",
    "        # Map each element using the line_mapper\n",
    "        mapped_itr = map(self.game_mapper, file_itr)\n",
    "        return mapped_itr\n",
    "        \n"
   ]
  },
  {
   "cell_type": "code",
   "execution_count": 41,
   "metadata": {},
   "outputs": [
    {
     "ename": "TypeError",
     "evalue": "object of type 'ChessGamesDataset' has no len()",
     "output_type": "error",
     "traceback": [
      "\u001b[0;31m---------------------------------------------------------------------------\u001b[0m",
      "\u001b[0;31mTypeError\u001b[0m                                 Traceback (most recent call last)",
      "\u001b[0;32m<ipython-input-41-4a3914eaa8bb>\u001b[0m in \u001b[0;36m<module>\u001b[0;34m\u001b[0m\n\u001b[1;32m     10\u001b[0m         \u001b[0;31m# create dataset.\u001b[0m\u001b[0;34m\u001b[0m\u001b[0;34m\u001b[0m\u001b[0;34m\u001b[0m\u001b[0m\n\u001b[1;32m     11\u001b[0m         \u001b[0mdataset\u001b[0m \u001b[0;34m=\u001b[0m \u001b[0mChessGamesDataset\u001b[0m\u001b[0;34m(\u001b[0m\u001b[0;34m\"data/probing_dataset.txt\"\u001b[0m\u001b[0;34m,\u001b[0m \u001b[0mmodel\u001b[0m\u001b[0;34m.\u001b[0m\u001b[0mnotation\u001b[0m\u001b[0;34m,\u001b[0m \u001b[0mmodel\u001b[0m\u001b[0;34m.\u001b[0m\u001b[0mtokenizer\u001b[0m\u001b[0;34m,\u001b[0m \u001b[0mmax_length\u001b[0m\u001b[0;34m)\u001b[0m\u001b[0;34m\u001b[0m\u001b[0;34m\u001b[0m\u001b[0m\n\u001b[0;32m---> 12\u001b[0;31m         \u001b[0mrandom_split\u001b[0m\u001b[0;34m(\u001b[0m\u001b[0mdataset\u001b[0m\u001b[0;34m,\u001b[0m \u001b[0;34m[\u001b[0m\u001b[0;36m80\u001b[0m\u001b[0;34m,\u001b[0m \u001b[0;36m20\u001b[0m\u001b[0;34m]\u001b[0m\u001b[0;34m)\u001b[0m\u001b[0;34m\u001b[0m\u001b[0;34m\u001b[0m\u001b[0m\n\u001b[0m\u001b[1;32m     13\u001b[0m         \u001b[0;31m# todo split()\u001b[0m\u001b[0;34m\u001b[0m\u001b[0;34m\u001b[0m\u001b[0;34m\u001b[0m\u001b[0m\n\u001b[1;32m     14\u001b[0m         \u001b[0mtrain_probing_classifier\u001b[0m\u001b[0;34m(\u001b[0m\u001b[0mmodel\u001b[0m\u001b[0;34m,\u001b[0m \u001b[0mdataset\u001b[0m\u001b[0;34m)\u001b[0m\u001b[0;34m\u001b[0m\u001b[0;34m\u001b[0m\u001b[0m\n",
      "\u001b[0;32m~/.local/lib/python3.8/site-packages/torch/utils/data/dataset.py\u001b[0m in \u001b[0;36mrandom_split\u001b[0;34m(dataset, lengths, generator)\u001b[0m\n\u001b[1;32m    290\u001b[0m     \"\"\"\n\u001b[1;32m    291\u001b[0m     \u001b[0;31m# Cannot verify that dataset is Sized\u001b[0m\u001b[0;34m\u001b[0m\u001b[0;34m\u001b[0m\u001b[0;34m\u001b[0m\u001b[0m\n\u001b[0;32m--> 292\u001b[0;31m     \u001b[0;32mif\u001b[0m \u001b[0msum\u001b[0m\u001b[0;34m(\u001b[0m\u001b[0mlengths\u001b[0m\u001b[0;34m)\u001b[0m \u001b[0;34m!=\u001b[0m \u001b[0mlen\u001b[0m\u001b[0;34m(\u001b[0m\u001b[0mdataset\u001b[0m\u001b[0;34m)\u001b[0m\u001b[0;34m:\u001b[0m  \u001b[0;31m# type: ignore\u001b[0m\u001b[0;34m\u001b[0m\u001b[0;34m\u001b[0m\u001b[0m\n\u001b[0m\u001b[1;32m    293\u001b[0m         \u001b[0;32mraise\u001b[0m \u001b[0mValueError\u001b[0m\u001b[0;34m(\u001b[0m\u001b[0;34m\"Sum of input lengths does not equal the length of the input dataset!\"\u001b[0m\u001b[0;34m)\u001b[0m\u001b[0;34m\u001b[0m\u001b[0;34m\u001b[0m\u001b[0m\n\u001b[1;32m    294\u001b[0m \u001b[0;34m\u001b[0m\u001b[0m\n",
      "\u001b[0;31mTypeError\u001b[0m: object of type 'ChessGamesDataset' has no len()"
     ]
    }
   ],
   "source": [
    "for model in [UciGPT]:  # [\"pretrained_gpt\",\"pgn_gpt\", \"uci_gpt\", \"special_gpt\"\n",
    "    chess_models = [UciGPT]\n",
    "    for model in chess_models:  # [\"pretrained_gpt\",\"pgn_gpt\", \"uci_gpt\", \"special_gpt\"]\n",
    "        # get the longest sequence from the tokenizer to do padding later. \n",
    "        if model.notation == \"uci\":\n",
    "            max_length = model.tokenizer(open(\"data/max_length_uci.txt\").readline(), return_length=True)['length']\n",
    "        else: # == pgn\n",
    "            max_length = model.tokenizer(open(\"data/max_length_pgn.txt\").readline(), return_length=True)['length'].item()\n",
    "\n",
    "        # create dataset. \n",
    "        dataset = ChessGamesDataset(\"data/probing_dataset.txt\", model.notation, model.tokenizer, max_length)\n",
    "        # todo split()\n",
    "        train_probing_classifier(model, dataset)\n",
    "        #train_probing_classifier(model, dataset, probing_classifier)\n",
    "        \n",
    "        # todo save"
   ]
  },
  {
   "cell_type": "code",
   "execution_count": null,
   "metadata": {},
   "outputs": [],
   "source": []
  },
  {
   "cell_type": "code",
   "execution_count": null,
   "metadata": {},
   "outputs": [],
   "source": []
  },
  {
   "cell_type": "code",
   "execution_count": null,
   "metadata": {},
   "outputs": [],
   "source": []
  }
 ],
 "metadata": {
  "kernelspec": {
   "display_name": "Python 3",
   "language": "python",
   "name": "python3"
  },
  "language_info": {
   "codemirror_mode": {
    "name": "ipython",
    "version": 3
   },
   "file_extension": ".py",
   "mimetype": "text/x-python",
   "name": "python",
   "nbconvert_exporter": "python",
   "pygments_lexer": "ipython3",
   "version": "3.8.5"
  }
 },
 "nbformat": 4,
 "nbformat_minor": 4
}
