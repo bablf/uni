{
 "cells": [
  {
   "cell_type": "markdown",
   "metadata": {},
   "source": [
    "# Deep Learning for Natural Language Processing\n",
    "## Exercise Sheet 4 - numpy\n",
    "\n",
    "You should answer each question with a line of code in the cell below.\n",
    "A correctly completed answer gives 2 points. Partially correct answers give 1 point.\n",
    "\n",
    "**Submission deadline:** 09/12/2020, 23:59 Central European Time\n",
    "\n",
    "**Exercise:** 16/12/2020, after the lecture\n",
    "\n",
    "**Instructions for submission:** \n",
    "You should complete the parts of the exercises that are marked as **TODO**. A correctly completed **TODO** gives 2 bonus points. Partially correct answers give 1 bonus point. After completing the exercise, save a copy of the notebook as exercise4_numpy_MATRIKELNUMMER.ipynb, where MATRIKELNUMMER is your matriculation number. Then upload the notebook to moodle (submission exercise sheet 4).\n",
    "\n",
    "**Note:** In order to understand the code, it can be helpful to experiment a bit during development. You are welcome to print variables, reduce dataset sizes, or experiment with hyperparameters. But please remove these changes before submitting the notebook. If we cannot run your notebook (e.g., because you commented out an important variable, or because a print statement is congesting stdout), then we cannot grade it. \n",
    "\n",
    "Total points: 30"
   ]
  },
  {
   "cell_type": "markdown",
   "metadata": {},
   "source": [
    "* import the numpy package under the name np"
   ]
  },
  {
   "cell_type": "code",
   "execution_count": 25,
   "metadata": {},
   "outputs": [],
   "source": [
    "import numpy as np"
   ]
  },
  {
   "cell_type": "markdown",
   "metadata": {},
   "source": [
    "* generate a vector with values ranging from 42 to 80"
   ]
  },
  {
   "cell_type": "code",
   "execution_count": 206,
   "metadata": {},
   "outputs": [],
   "source": [
    "x = np.arange(42,81)"
   ]
  },
  {
   "cell_type": "markdown",
   "metadata": {},
   "source": [
    "* revert the previously generated vector"
   ]
  },
  {
   "cell_type": "code",
   "execution_count": 207,
   "metadata": {},
   "outputs": [
    {
     "data": {
      "text/plain": [
       "array([80, 79, 78, 77, 76, 75, 74, 73, 72, 71, 70, 69, 68, 67, 66, 65, 64,\n",
       "       63, 62, 61, 60, 59, 58, 57, 56, 55, 54, 53, 52, 51, 50, 49, 48, 47,\n",
       "       46, 45, 44, 43, 42])"
      ]
     },
     "execution_count": 207,
     "metadata": {},
     "output_type": "execute_result"
    }
   ],
   "source": [
    "x[::-1]"
   ]
  },
  {
   "cell_type": "markdown",
   "metadata": {},
   "source": [
    "* create a null vector of size 15 but the third, fifth and eight values set to 1"
   ]
  },
  {
   "cell_type": "code",
   "execution_count": 138,
   "metadata": {},
   "outputs": [
    {
     "data": {
      "text/plain": [
       "array([0., 0., 1., 0., 1., 0., 0., 1., 0., 0., 0., 0., 0., 0., 0.])"
      ]
     },
     "execution_count": 138,
     "metadata": {},
     "output_type": "execute_result"
    }
   ],
   "source": [
    "indices = [2, 4, 7]\n",
    "zero = np.zeros(15)\n",
    "zero[indices] = 1\n",
    "zero"
   ]
  },
  {
   "cell_type": "markdown",
   "metadata": {},
   "source": [
    "* create a 4x4 matrix with random values"
   ]
  },
  {
   "cell_type": "code",
   "execution_count": 208,
   "metadata": {},
   "outputs": [
    {
     "data": {
      "text/plain": [
       "array([[0.96743173, 0.27150251, 0.86990236, 0.12282471],\n",
       "       [0.15466663, 0.38269306, 0.51133902, 0.03417213],\n",
       "       [0.51672075, 0.75759334, 0.30812067, 0.10488937],\n",
       "       [0.62540184, 0.03889343, 0.82875325, 0.52076687]])"
      ]
     },
     "execution_count": 208,
     "metadata": {},
     "output_type": "execute_result"
    }
   ],
   "source": [
    "np.random.rand(4,4)"
   ]
  },
  {
   "cell_type": "markdown",
   "metadata": {},
   "source": [
    "* create a 5x5 2d array with 0 on the borders and 1 inside"
   ]
  },
  {
   "cell_type": "code",
   "execution_count": 124,
   "metadata": {},
   "outputs": [
    {
     "data": {
      "text/plain": [
       "array([[0., 0., 0., 0., 0.],\n",
       "       [0., 1., 1., 1., 0.],\n",
       "       [0., 1., 1., 1., 0.],\n",
       "       [0., 1., 1., 1., 0.],\n",
       "       [0., 0., 0., 0., 0.]])"
      ]
     },
     "execution_count": 124,
     "metadata": {},
     "output_type": "execute_result"
    }
   ],
   "source": [
    "random = np.zeros((5,5))\n",
    "random[1:-1,1:-1] = 1"
   ]
  },
  {
   "cell_type": "markdown",
   "metadata": {},
   "source": [
    "* create a 4x5 2d array with random values and compute the mean values of each row"
   ]
  },
  {
   "cell_type": "code",
   "execution_count": 210,
   "metadata": {},
   "outputs": [
    {
     "name": "stdout",
     "output_type": "stream",
     "text": [
      "[0.29506396 0.61728093 0.44687465 0.54420454]\n"
     ]
    }
   ],
   "source": [
    "print(np.random.rand(4,5).mean(1))"
   ]
  },
  {
   "cell_type": "markdown",
   "metadata": {},
   "source": [
    "* create a vector of size 5 with values drawn from an uniform distribution and sort it"
   ]
  },
  {
   "cell_type": "code",
   "execution_count": 215,
   "metadata": {},
   "outputs": [
    {
     "data": {
      "text/plain": [
       "array([0.06664406, 0.22282543, 0.52082116, 0.79867874, 0.825058  ])"
      ]
     },
     "execution_count": 215,
     "metadata": {},
     "output_type": "execute_result"
    }
   ],
   "source": [
    "np.sort(np.random.uniform(0,1,5))\n",
    "\n"
   ]
  },
  {
   "cell_type": "markdown",
   "metadata": {},
   "source": [
    "* consider an array of shape (3,4,5), what is the index (x,y,z) of the 30th element? Note that\n",
    "there is a way to find this index directly within numpy"
   ]
  },
  {
   "cell_type": "code",
   "execution_count": 216,
   "metadata": {},
   "outputs": [
    {
     "data": {
      "text/plain": [
       "(1, 2, 0)"
      ]
     },
     "execution_count": 216,
     "metadata": {},
     "output_type": "execute_result"
    }
   ],
   "source": [
    "np.unravel_index(30, (3,4,5))"
   ]
  },
  {
   "cell_type": "markdown",
   "metadata": {},
   "source": [
    "* compute the dot product of a 3x4 and a 4x2 matrix, each containing only ones"
   ]
  },
  {
   "cell_type": "code",
   "execution_count": 119,
   "metadata": {},
   "outputs": [
    {
     "data": {
      "text/plain": [
       "array([[4., 4.],\n",
       "       [4., 4.],\n",
       "       [4., 4.]])"
      ]
     },
     "execution_count": 119,
     "metadata": {},
     "output_type": "execute_result"
    }
   ],
   "source": [
    "x = np.ones((3,4))\n",
    "y = np.ones((4,2))\n",
    "x.dot(y)"
   ]
  },
  {
   "cell_type": "markdown",
   "metadata": {},
   "source": [
    "* create an array containing all dates of the days you had to work on this sheet including start and\n",
    "end day in the format YYYY-MM-DD. Hint: there is a special data type for dates in numpy"
   ]
  },
  {
   "cell_type": "code",
   "execution_count": 120,
   "metadata": {},
   "outputs": [
    {
     "data": {
      "text/plain": [
       "numpy.datetime64('2020-12-03')"
      ]
     },
     "execution_count": 120,
     "metadata": {},
     "output_type": "execute_result"
    }
   ],
   "source": [
    "dates = np.datetime64('2020-12-03')"
   ]
  },
  {
   "cell_type": "markdown",
   "metadata": {},
   "source": [
    "* create a 1d array with 10 random values between 0 and 5 and find the value nearest to 4"
   ]
  },
  {
   "cell_type": "code",
   "execution_count": 205,
   "metadata": {},
   "outputs": [
    {
     "data": {
      "text/plain": [
       "3.875881952109921"
      ]
     },
     "execution_count": 205,
     "metadata": {},
     "output_type": "execute_result"
    }
   ],
   "source": [
    "rand_arr = 5 * np.random.rand(10)\n",
    "rand_arr[np.abs(rand_arr-4).argmin()]"
   ]
  },
  {
   "cell_type": "markdown",
   "metadata": {},
   "source": [
    "* considering a four dimensions array, get the sums over the first two axis at once"
   ]
  },
  {
   "cell_type": "code",
   "execution_count": 195,
   "metadata": {},
   "outputs": [
    {
     "data": {
      "text/plain": [
       "array([[4.92041144, 3.6313558 ],\n",
       "       [3.64106795, 4.1595549 ],\n",
       "       [4.06007213, 4.46767176],\n",
       "       [4.67542197, 3.82457133]])"
      ]
     },
     "execution_count": 195,
     "metadata": {},
     "output_type": "execute_result"
    }
   ],
   "source": [
    "np.random.rand(2,4,4,2).sum(axis=(0,1))\n"
   ]
  },
  {
   "cell_type": "markdown",
   "metadata": {},
   "source": [
    "* given the array [0,1,2,3,4,5,0,2,3,1,2,3,2,3,2] find the most frequent value and its indexes"
   ]
  },
  {
   "cell_type": "code",
   "execution_count": 151,
   "metadata": {},
   "outputs": [
    {
     "data": {
      "text/plain": [
       "(array([ 2,  7, 10, 12, 14]),)"
      ]
     },
     "execution_count": 151,
     "metadata": {},
     "output_type": "execute_result"
    }
   ],
   "source": [
    "x = [0,1,2,3,4,5,0,2,3,1,2,3,2,3,2]\n",
    "indices = np.where(x == np.bincount(x).argmax()) # np.bincount(x).argmax() for most frequent value\n",
    "indices\n"
   ]
  },
  {
   "cell_type": "markdown",
   "metadata": {},
   "source": [
    "* given the array [0,0,1,5,0,2,0,0,3,0] find all indexes of non-zero values and all indexes of values\n",
    "greater than 1"
   ]
  },
  {
   "cell_type": "code",
   "execution_count": 158,
   "metadata": {},
   "outputs": [
    {
     "name": "stdout",
     "output_type": "stream",
     "text": [
      "non-zero: (array([2, 3, 5, 8]),)\n",
      "greater 1: (array([3, 5, 8]),)\n"
     ]
    }
   ],
   "source": [
    "x = [0,0,1,5,0,2,0,0,3,0]\n",
    "print(\"non-zero:\", np.array(x).nonzero())\n",
    "print(\"greater 1:\", np.where(np.array(x)>1))"
   ]
  },
  {
   "cell_type": "code",
   "execution_count": null,
   "metadata": {},
   "outputs": [],
   "source": []
  }
 ],
 "metadata": {
  "kernelspec": {
   "display_name": "Python 3",
   "language": "python",
   "name": "python3"
  },
  "language_info": {
   "codemirror_mode": {
    "name": "ipython",
    "version": 3
   },
   "file_extension": ".py",
   "mimetype": "text/x-python",
   "name": "python",
   "nbconvert_exporter": "python",
   "pygments_lexer": "ipython3",
   "version": "3.8.5"
  },
  "name": ""
 },
 "nbformat": 4,
 "nbformat_minor": 1
}
